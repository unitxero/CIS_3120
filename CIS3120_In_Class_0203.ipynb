{
  "cells": [
    {
      "cell_type": "markdown",
      "metadata": {
        "id": "view-in-github",
        "colab_type": "text"
      },
      "source": [
        "<a href=\"https://colab.research.google.com/github/unitxero/CIS_3120/blob/main/CIS3120_In_Class_0203.ipynb\" target=\"_parent\"><img src=\"https://colab.research.google.com/assets/colab-badge.svg\" alt=\"Open In Colab\"/></a>"
      ]
    },
    {
      "cell_type": "code",
      "execution_count": 1,
      "id": "bf04939a",
      "metadata": {
        "id": "bf04939a"
      },
      "outputs": [],
      "source": [
        "#Number, booleans, strings"
      ]
    },
    {
      "cell_type": "code",
      "execution_count": 2,
      "id": "e44bf787",
      "metadata": {
        "colab": {
          "base_uri": "https://localhost:8080/"
        },
        "id": "e44bf787",
        "outputId": "1dddc11d-f2fa-48a2-915c-9ebb337e7c78"
      },
      "outputs": [
        {
          "output_type": "execute_result",
          "data": {
            "text/plain": [
              "[1, 2]"
            ]
          },
          "metadata": {},
          "execution_count": 2
        }
      ],
      "source": [
        "#lists, tuples, dictionaries and sets\n",
        "#creating a empty list and adding numbers\n",
        "\n",
        "#list.append(x) :add an item to the end of the list\n",
        "#list.pop(): removes and returns the last item in the list\n",
        "\n",
        "li1 = []\n",
        "li1.append(1) # li is now [1]\n",
        "li1.append(2) # li is now [1, 2]\n",
        "#li1.pop() # removes and returns the last element\n",
        "li1"
      ]
    },
    {
      "cell_type": "code",
      "source": [
        "#li1.pop(1) # removes the index 1, which is the integer 2, and keeps the remaining\n",
        "# integer in the list, which is just 1\n",
        "li1"
      ],
      "metadata": {
        "colab": {
          "base_uri": "https://localhost:8080/"
        },
        "id": "e1dxLpHtF1uz",
        "outputId": "2a9666e9-4eb1-4427-826f-7e9588a413d9"
      },
      "id": "e1dxLpHtF1uz",
      "execution_count": 3,
      "outputs": [
        {
          "output_type": "execute_result",
          "data": {
            "text/plain": [
              "[1, 2]"
            ]
          },
          "metadata": {},
          "execution_count": 3
        }
      ]
    },
    {
      "cell_type": "code",
      "execution_count": 4,
      "id": "edbf2bfd",
      "metadata": {
        "colab": {
          "base_uri": "https://localhost:8080/"
        },
        "id": "edbf2bfd",
        "outputId": "913977ee-2e8c-4fd9-ee0f-9386d139f8a9"
      },
      "outputs": [
        {
          "output_type": "execute_result",
          "data": {
            "text/plain": [
              "['a', 2, False]"
            ]
          },
          "metadata": {},
          "execution_count": 4
        }
      ],
      "source": [
        "#list\n",
        "li1 = ['a', 2, False] # not all elements need to be the same type\n",
        "li2 = [[3], [3, 4], [1, 2, 3]] # even lists of lists\n",
        "li3 = [2,3,4,1]\n",
        "\n",
        "\n",
        "#list methods (remove, insert, locate position of each component, extend list)\n",
        "#list.insert(i,x) insert an item x at a given position i\n",
        "#list.remove(x) remove the first item from the list whose value is equal to x\n",
        "#list.extend(iterable) extend the list by appending all the items from the iterable\n",
        "\n",
        "#del li1[2] #delete one element in the list\n",
        "li1"
      ]
    },
    {
      "cell_type": "code",
      "source": [
        "li2"
      ],
      "metadata": {
        "colab": {
          "base_uri": "https://localhost:8080/"
        },
        "id": "SnSkkiW5Gwrd",
        "outputId": "2dfdd5cc-1fad-41d6-c768-6e8a2727168c"
      },
      "id": "SnSkkiW5Gwrd",
      "execution_count": 5,
      "outputs": [
        {
          "output_type": "execute_result",
          "data": {
            "text/plain": [
              "[[3], [3, 4], [1, 2, 3]]"
            ]
          },
          "metadata": {},
          "execution_count": 5
        }
      ]
    },
    {
      "cell_type": "code",
      "source": [
        "li3"
      ],
      "metadata": {
        "colab": {
          "base_uri": "https://localhost:8080/"
        },
        "id": "OsDTqcXHGwe7",
        "outputId": "5aae9131-74e9-419d-bf5f-dece51112e5e"
      },
      "id": "OsDTqcXHGwe7",
      "execution_count": 6,
      "outputs": [
        {
          "output_type": "execute_result",
          "data": {
            "text/plain": [
              "[2, 3, 4, 1]"
            ]
          },
          "metadata": {},
          "execution_count": 6
        }
      ]
    },
    {
      "cell_type": "code",
      "source": [
        "li3.insert(1, 300) # inserting 300, at index 1\n",
        "li3"
      ],
      "metadata": {
        "colab": {
          "base_uri": "https://localhost:8080/"
        },
        "id": "pd-u8h_NG3gq",
        "outputId": "ba7785c3-7e32-4807-fd6f-da34e5b690b9"
      },
      "id": "pd-u8h_NG3gq",
      "execution_count": 7,
      "outputs": [
        {
          "output_type": "execute_result",
          "data": {
            "text/plain": [
              "[2, 300, 3, 4, 1]"
            ]
          },
          "metadata": {},
          "execution_count": 7
        }
      ]
    },
    {
      "cell_type": "code",
      "source": [
        "li3.remove(2) # removing the first value of 2, from the list\n",
        "li3"
      ],
      "metadata": {
        "colab": {
          "base_uri": "https://localhost:8080/"
        },
        "id": "uZi56647HP79",
        "outputId": "e67331c5-4913-49cb-f9a6-f38e8beba4a0"
      },
      "id": "uZi56647HP79",
      "execution_count": 8,
      "outputs": [
        {
          "output_type": "execute_result",
          "data": {
            "text/plain": [
              "[300, 3, 4, 1]"
            ]
          },
          "metadata": {},
          "execution_count": 8
        }
      ]
    },
    {
      "cell_type": "code",
      "source": [
        "li3.extend(range(3)) # extending list 3, with 3 more numbers, 0,1,2\n",
        "li3"
      ],
      "metadata": {
        "colab": {
          "base_uri": "https://localhost:8080/"
        },
        "id": "0dPALPtiHhi3",
        "outputId": "c92cb875-1ff0-4ab7-9f50-652f77f26baa"
      },
      "id": "0dPALPtiHhi3",
      "execution_count": 9,
      "outputs": [
        {
          "output_type": "execute_result",
          "data": {
            "text/plain": [
              "[300, 3, 4, 1, 0, 1, 2]"
            ]
          },
          "metadata": {},
          "execution_count": 9
        }
      ]
    },
    {
      "cell_type": "code",
      "source": [
        "li3.extend(li2) # adding a list to a list. We now have multiple lists in the list\n",
        "li3"
      ],
      "metadata": {
        "colab": {
          "base_uri": "https://localhost:8080/"
        },
        "id": "hgQAt8ZaHtd_",
        "outputId": "442d4e38-5b76-41af-f827-8094040d495e"
      },
      "id": "hgQAt8ZaHtd_",
      "execution_count": 10,
      "outputs": [
        {
          "output_type": "execute_result",
          "data": {
            "text/plain": [
              "[300, 3, 4, 1, 0, 1, 2, [3], [3, 4], [1, 2, 3]]"
            ]
          },
          "metadata": {},
          "execution_count": 10
        }
      ]
    },
    {
      "cell_type": "code",
      "source": [
        "del li1 # deleting li1\n",
        "li1 # an error should occur, as the entire li1 is deleted\n",
        "# using del list[index] can remove a specific index within the list"
      ],
      "metadata": {
        "colab": {
          "base_uri": "https://localhost:8080/",
          "height": 215
        },
        "id": "8cR75PBFIC3Q",
        "outputId": "e3cbffeb-8896-48a8-ddb1-50bd0c03dcb5"
      },
      "id": "8cR75PBFIC3Q",
      "execution_count": 11,
      "outputs": [
        {
          "output_type": "error",
          "ename": "NameError",
          "evalue": "ignored",
          "traceback": [
            "\u001b[0;31m---------------------------------------------------------------------------\u001b[0m",
            "\u001b[0;31mNameError\u001b[0m                                 Traceback (most recent call last)",
            "\u001b[0;32m<ipython-input-11-bb0f0988c34e>\u001b[0m in \u001b[0;36m<module>\u001b[0;34m()\u001b[0m\n\u001b[1;32m      1\u001b[0m \u001b[0;32mdel\u001b[0m \u001b[0mli1\u001b[0m \u001b[0;31m# deleting li1\u001b[0m\u001b[0;34m\u001b[0m\u001b[0;34m\u001b[0m\u001b[0m\n\u001b[0;32m----> 2\u001b[0;31m \u001b[0mli1\u001b[0m \u001b[0;31m# an error should occur, as the entire li1 is deleted\u001b[0m\u001b[0;34m\u001b[0m\u001b[0;34m\u001b[0m\u001b[0m\n\u001b[0m\u001b[1;32m      3\u001b[0m \u001b[0;31m# using del list[index] can remove a specific index within the list\u001b[0m\u001b[0;34m\u001b[0m\u001b[0;34m\u001b[0m\u001b[0;34m\u001b[0m\u001b[0m\n",
            "\u001b[0;31mNameError\u001b[0m: name 'li1' is not defined"
          ]
        }
      ]
    },
    {
      "cell_type": "code",
      "execution_count": 12,
      "id": "6ec0d967",
      "metadata": {
        "colab": {
          "base_uri": "https://localhost:8080/",
          "height": 248
        },
        "id": "6ec0d967",
        "outputId": "a2f2667e-93d9-4e47-af4c-62872968e21e"
      },
      "outputs": [
        {
          "output_type": "error",
          "ename": "NameError",
          "evalue": "ignored",
          "traceback": [
            "\u001b[0;31m---------------------------------------------------------------------------\u001b[0m",
            "\u001b[0;31mNameError\u001b[0m                                 Traceback (most recent call last)",
            "\u001b[0;32m<ipython-input-12-899d696c946b>\u001b[0m in \u001b[0;36m<module>\u001b[0;34m()\u001b[0m\n\u001b[1;32m      1\u001b[0m \u001b[0;31m#for loop in list\u001b[0m\u001b[0;34m\u001b[0m\u001b[0;34m\u001b[0m\u001b[0;34m\u001b[0m\u001b[0m\n\u001b[0;32m----> 2\u001b[0;31m \u001b[0;32mfor\u001b[0m \u001b[0mnum\u001b[0m \u001b[0;32min\u001b[0m \u001b[0mli1\u001b[0m\u001b[0;34m:\u001b[0m\u001b[0;34m\u001b[0m\u001b[0;34m\u001b[0m\u001b[0m\n\u001b[0m\u001b[1;32m      3\u001b[0m     \u001b[0mprint\u001b[0m\u001b[0;34m(\u001b[0m\u001b[0mnum\u001b[0m\u001b[0;34m)\u001b[0m\u001b[0;34m\u001b[0m\u001b[0;34m\u001b[0m\u001b[0m\n\u001b[1;32m      4\u001b[0m \u001b[0;34m\u001b[0m\u001b[0m\n\u001b[1;32m      5\u001b[0m \u001b[0;31m#5 in li1\u001b[0m\u001b[0;34m\u001b[0m\u001b[0;34m\u001b[0m\u001b[0;34m\u001b[0m\u001b[0m\n",
            "\u001b[0;31mNameError\u001b[0m: name 'li1' is not defined"
          ]
        }
      ],
      "source": [
        "#for loop in list\n",
        "for num in li1:\n",
        "    print(num)    \n",
        "    \n",
        "#5 in li1"
      ]
    },
    {
      "cell_type": "code",
      "execution_count": null,
      "id": "06d6ebbd",
      "metadata": {
        "id": "06d6ebbd"
      },
      "outputs": [],
      "source": [
        "#while loop\n",
        "x = 0\n",
        "while x<5:\n",
        "    print(x)\n",
        "    x = x+1\n",
        "    #x += 1"
      ]
    },
    {
      "cell_type": "code",
      "execution_count": 15,
      "id": "427bde82",
      "metadata": {
        "colab": {
          "base_uri": "https://localhost:8080/"
        },
        "id": "427bde82",
        "outputId": "affdb1b1-c75b-4d98-8743-fbd90438ff5c"
      },
      "outputs": [
        {
          "output_type": "execute_result",
          "data": {
            "text/plain": [
              "[0, 2, 4, 6, 8]"
            ]
          },
          "metadata": {},
          "execution_count": 15
        }
      ],
      "source": [
        "#for loop and range()\n",
        "#range(lower, upper, step) create a sequence of numbers\n",
        "list(range(0,3))\n",
        "list(range(0,10,2)) \n",
        "#for number in range(0,10,2):\n",
        " #   print(number)"
      ]
    },
    {
      "cell_type": "code",
      "execution_count": null,
      "id": "a8394b7c",
      "metadata": {
        "id": "a8394b7c"
      },
      "outputs": [],
      "source": [
        "#create a list with squares of integers less than 10\n",
        "#1 for loop\n",
        "\n",
        "\n"
      ]
    },
    {
      "cell_type": "code",
      "source": [
        "# creating a list with squares of integers less than 10\n",
        "\n",
        "num_list = []\n",
        "for num in range(10):\n",
        "  num_list.append(num ** 2)\n",
        "  print(num_list)\n",
        " \n",
        "  "
      ],
      "metadata": {
        "colab": {
          "base_uri": "https://localhost:8080/"
        },
        "id": "AjsJ0TRKKbRi",
        "outputId": "bb971156-a22f-4fb4-9cab-a7f227f0f2d0"
      },
      "id": "AjsJ0TRKKbRi",
      "execution_count": 16,
      "outputs": [
        {
          "output_type": "stream",
          "name": "stdout",
          "text": [
            "[0]\n",
            "[0, 1]\n",
            "[0, 1, 4]\n",
            "[0, 1, 4, 9]\n",
            "[0, 1, 4, 9, 16]\n",
            "[0, 1, 4, 9, 16, 25]\n",
            "[0, 1, 4, 9, 16, 25, 36]\n",
            "[0, 1, 4, 9, 16, 25, 36, 49]\n",
            "[0, 1, 4, 9, 16, 25, 36, 49, 64]\n",
            "[0, 1, 4, 9, 16, 25, 36, 49, 64, 81]\n"
          ]
        }
      ]
    },
    {
      "cell_type": "code",
      "execution_count": null,
      "id": "1064aaf5",
      "metadata": {
        "id": "1064aaf5"
      },
      "outputs": [],
      "source": [
        "#create a list with squares of integers less than 10 \n",
        "#2 list comprehension\n",
        "\n",
        "#list comprehension\n",
        "#a shorter syntax of for loop\n",
        "#create a new list based on the values of an existing list\n",
        "\n",
        "#syntax\n",
        "#output_list = [item for item in existing_list if (condition to be satisfied) ]\n",
        "\n"
      ]
    },
    {
      "cell_type": "code",
      "source": [
        "num_list3 = [x ** 2 for x in range(10)]\n",
        "num_list3"
      ],
      "metadata": {
        "id": "c2skhh1ePcHV"
      },
      "id": "c2skhh1ePcHV",
      "execution_count": null,
      "outputs": []
    },
    {
      "cell_type": "code",
      "execution_count": null,
      "id": "ffbf4b36",
      "metadata": {
        "id": "ffbf4b36"
      },
      "outputs": [],
      "source": [
        "#list comprehension\n",
        "#example 2\n",
        "#create a newlist which contains letters with letter \"a\" in the name\n",
        "\n",
        "fruits = [\"Apple\", \"banana\", \"cherry\", \"kiwi\", \"mango\", \"Avocado\", \"blackberry\"]\n",
        "\n"
      ]
    },
    {
      "cell_type": "code",
      "source": [
        "fruit_list = []        # checking for 'a' or 'A' in our fruits list\n",
        "for f in fruits:\n",
        "  if 'a' in f or 'A' in f:\n",
        "    fruit_list.append(f)\n",
        "  print(fruit_list)"
      ],
      "metadata": {
        "id": "3ooOkXI4M6U9"
      },
      "id": "3ooOkXI4M6U9",
      "execution_count": null,
      "outputs": []
    },
    {
      "cell_type": "code",
      "source": [
        ""
      ],
      "metadata": {
        "id": "pY5l3jjlNqjy"
      },
      "id": "pY5l3jjlNqjy",
      "execution_count": null,
      "outputs": []
    },
    {
      "cell_type": "code",
      "execution_count": 14,
      "id": "1e9e04c1",
      "metadata": {
        "colab": {
          "base_uri": "https://localhost:8080/"
        },
        "id": "1e9e04c1",
        "outputId": "302b0f3b-68b9-4841-f3fe-85ee578c1ebb"
      },
      "outputs": [
        {
          "output_type": "execute_result",
          "data": {
            "text/plain": [
              "[0, 1, 4, 9, 16, 25, 36, 49, 64, 81]"
            ]
          },
          "metadata": {},
          "execution_count": 14
        }
      ],
      "source": [
        "#create a list with squares of integers less than 10\n",
        "#3 lambda & map()\n",
        "\n",
        "#lambda: used to define an anonymous function in Python, similar to 'def'\n",
        "#syntax: lambda arguments: expression ()\n",
        "\n",
        "#map()\n",
        "#syntax: map(fun, ite)\n",
        "#apply the given function to each item of a given iterable (list, tuple, set, dictionary etc.)\n",
        "\n",
        "\n",
        "list(map(lambda x:x**2, range(10)))\n"
      ]
    },
    {
      "cell_type": "code",
      "execution_count": null,
      "id": "338b5012",
      "metadata": {
        "id": "338b5012"
      },
      "outputs": [],
      "source": [
        "#user-defined function\n",
        "def add(x, y):\n",
        "    #print(\"x is {} and y is {}\".format(x,y))\n",
        "    return x + y # return value\n",
        "\n",
        "#compare with the lambda method\n",
        "\n",
        "\n",
        "\n",
        "add(4,5)"
      ]
    },
    {
      "cell_type": "code",
      "source": [
        "add = lambda x,y: x+y # lambda example\n",
        "#add(1,1)\n",
        "add(100, 50)"
      ],
      "metadata": {
        "id": "NSaDirnSQ0li"
      },
      "id": "NSaDirnSQ0li",
      "execution_count": null,
      "outputs": []
    },
    {
      "cell_type": "code",
      "source": [
        "list(map(lambda x:x+x, [3,5,7])) #lambda with map"
      ],
      "metadata": {
        "colab": {
          "base_uri": "https://localhost:8080/"
        },
        "id": "rkvulO6LRTPH",
        "outputId": "8e3fb385-bba3-40d2-9f33-f8c013f6d506"
      },
      "id": "rkvulO6LRTPH",
      "execution_count": 13,
      "outputs": [
        {
          "output_type": "execute_result",
          "data": {
            "text/plain": [
              "[6, 10, 14]"
            ]
          },
          "metadata": {},
          "execution_count": 13
        }
      ]
    },
    {
      "cell_type": "code",
      "execution_count": 18,
      "id": "c6c96129",
      "metadata": {
        "colab": {
          "base_uri": "https://localhost:8080/"
        },
        "id": "c6c96129",
        "outputId": "37fe7f05-fd30-44db-e6d1-6ca5571ac01f"
      },
      "outputs": [
        {
          "output_type": "execute_result",
          "data": {
            "text/plain": [
              "2"
            ]
          },
          "metadata": {},
          "execution_count": 18
        }
      ],
      "source": [
        "# Tuples: similar to lists but are immutable,\n",
        "# meaning that elements cannot be added or removed after creation\n",
        "# When to use tuple? \n",
        "# Choose tuple if elements don't change \n",
        "\n",
        "tup = (1,2,3)\n",
        "\n",
        "\n",
        "#locate elements in tuple, delete, extend tuple\n",
        "tup[1]\n"
      ]
    },
    {
      "cell_type": "code",
      "source": [
        ""
      ],
      "metadata": {
        "colab": {
          "base_uri": "https://localhost:8080/",
          "height": 182
        },
        "id": "R2MvkBnpUgjT",
        "outputId": "e44d9cc0-49c7-4f77-a8b1-2a33293d3064"
      },
      "id": "R2MvkBnpUgjT",
      "execution_count": 19,
      "outputs": [
        {
          "output_type": "error",
          "ename": "TypeError",
          "evalue": "ignored",
          "traceback": [
            "\u001b[0;31m---------------------------------------------------------------------------\u001b[0m",
            "\u001b[0;31mTypeError\u001b[0m                                 Traceback (most recent call last)",
            "\u001b[0;32m<ipython-input-19-e5558afa55a9>\u001b[0m in \u001b[0;36m<module>\u001b[0;34m()\u001b[0m\n\u001b[0;32m----> 1\u001b[0;31m \u001b[0;32mdel\u001b[0m \u001b[0mtup\u001b[0m\u001b[0;34m[\u001b[0m\u001b[0;36m1\u001b[0m\u001b[0;34m]\u001b[0m\u001b[0;34m\u001b[0m\u001b[0;34m\u001b[0m\u001b[0m\n\u001b[0m",
            "\u001b[0;31mTypeError\u001b[0m: 'tuple' object doesn't support item deletion"
          ]
        }
      ]
    },
    {
      "cell_type": "code",
      "execution_count": null,
      "id": "05cb0fa4",
      "metadata": {
        "id": "05cb0fa4"
      },
      "outputs": [],
      "source": [
        "#Sets: also similar to lists, but they store a unique and unordered collection of items, with no duplicates\n",
        "\n",
        "\n",
        "set1 = set()   #create an empty set\n",
        "set2 = {3,3,5,7,8,2,10}   #set will automatically reorder the number and delete duplicates\n",
        "set3 = {'a','a','b',3,5}\n",
        "\n",
        "\n",
        "\n",
        "#set operations\n",
        "\n",
        "            #find intersection between two sets\n",
        "            #union two sets\n",
        "            #find elements in set2 but not in set 3\n",
        "            #find elements in set2 or set3 but not both\n"
      ]
    },
    {
      "cell_type": "code",
      "execution_count": null,
      "id": "ffb37a19",
      "metadata": {
        "id": "ffb37a19"
      },
      "outputs": [],
      "source": [
        "#Set comprehension\n",
        "#Create a set with unique characters other than 'abc' in the following string \n",
        "check_char = 'abracadabra'\n",
        "\n",
        "\n"
      ]
    },
    {
      "cell_type": "code",
      "execution_count": null,
      "id": "23b220b6",
      "metadata": {
        "id": "23b220b6"
      },
      "outputs": [],
      "source": [
        "#Dictionaries store a mapping between a series of unique keys and values\n",
        "#Dictionaries are indexed by immutable keys (strings, numbers, tuples)\n",
        "\n",
        "dic1 = {}\n",
        "dic1 = {\"one\": 1, \"two\": 2, \"three\": 3}\n",
        "\n",
        "dic1[\"three\"]\n",
        "\n",
        "#create a dictionary with dict()\n",
        "a = [('a',1),('b',2),('c',3)]\n",
        "dic2 = dict(a)\n",
        "\n",
        "#separate keys and values with method values() and keys()\n",
        "\n",
        "\n",
        "\n",
        "#get a specific value from a dictionary, with method get()\n",
        "\n",
        "\n",
        "#update and remove dictionary element with method update() and del statement\n",
        "\n",
        "\n",
        "\n",
        "#check whether a value/key is in a dictionary\n"
      ]
    },
    {
      "cell_type": "code",
      "execution_count": null,
      "id": "7178c4b7",
      "metadata": {
        "id": "7178c4b7"
      },
      "outputs": [],
      "source": [
        "#dict comprehensions \n",
        "#can be used to create dictionaries from arbitrary key and value expressions\n",
        "\n",
        "\n"
      ]
    }
  ],
  "metadata": {
    "kernelspec": {
      "display_name": "Python 3 (ipykernel)",
      "language": "python",
      "name": "python3"
    },
    "language_info": {
      "codemirror_mode": {
        "name": "ipython",
        "version": 3
      },
      "file_extension": ".py",
      "mimetype": "text/x-python",
      "name": "python",
      "nbconvert_exporter": "python",
      "pygments_lexer": "ipython3",
      "version": "3.9.7"
    },
    "colab": {
      "name": "CIS3120 In Class 0203.ipynb",
      "provenance": [],
      "include_colab_link": true
    }
  },
  "nbformat": 4,
  "nbformat_minor": 5
}