{
  "cells": [
    {
      "cell_type": "markdown",
      "metadata": {
        "id": "view-in-github",
        "colab_type": "text"
      },
      "source": [
        "<a href=\"https://colab.research.google.com/github/unitxero/CIS_3120/blob/main/Web_scraping_2_In_Class_0217__2.ipynb\" target=\"_parent\"><img src=\"https://colab.research.google.com/assets/colab-badge.svg\" alt=\"Open In Colab\"/></a>"
      ]
    },
    {
      "cell_type": "code",
      "execution_count": null,
      "id": "f6f32d71",
      "metadata": {
        "id": "f6f32d71"
      },
      "outputs": [],
      "source": [
        "#BeautifulSoup Package: a Python library for pulling data out of HTML and XML files.\n",
        "#\n",
        "pip install -U beautifulsoup4\n",
        "\n",
        "conda install beautifulsoup4\n"
      ]
    },
    {
      "cell_type": "code",
      "execution_count": null,
      "id": "87863083",
      "metadata": {
        "id": "87863083",
        "outputId": "540b7cf4-ded8-41ce-9ad8-5efa5f2cfe45"
      },
      "outputs": [
        {
          "name": "stdout",
          "output_type": "stream",
          "text": [
            "List of Game of Thrones episodes - Wikipedia\n"
          ]
        }
      ],
      "source": [
        "import requests\n",
        "from bs4 import BeautifulSoup\n",
        "\n",
        "url = 'https://en.wikipedia.org/w/index.php?title=List_of_Game_of_Thrones_episodes&oldid=802553687'\n",
        "#url = 'http://faculty.baruch.cuny.edu/nkumar/pytest/page.htm'\n",
        "r = requests.get(url)\n",
        "\n",
        "html_contents = r.text\n",
        "html_soup = BeautifulSoup(html_contents) #create a beautiful soup object\n",
        "\n",
        "#html_soup = BeautifulSoup(html_contents, 'html.parser')\n",
        "\n",
        "#print(html_contents)\n",
        "\n",
        "#get website text\n",
        "print(html_soup.get_text())\n",
        "\n",
        "#get website title\n",
        "print(html_soup.title)"
      ]
    },
    {
      "cell_type": "code",
      "execution_count": null,
      "id": "5c2da157",
      "metadata": {
        "id": "5c2da157",
        "outputId": "7bdc3f4e-7ed0-40f1-83c3-cd027037b8b3"
      },
      "outputs": [
        {
          "name": "stdout",
          "output_type": "stream",
          "text": [
            "<h1 class=\"firstHeading mw-first-heading\" id=\"firstHeading\">List of <i>Game of Thrones</i> episodes</h1>\n",
            "h1\n",
            "['List of ', <i>Game of Thrones</i>, ' episodes']\n",
            "List of Game of Thrones episodes\n",
            "List of Game of Thrones episodes\n",
            "{'id': 'firstHeading', 'class': ['firstHeading', 'mw-first-heading']}\n"
          ]
        }
      ],
      "source": [
        "first_h1 = html_soup.find('h1')\n",
        "\n",
        "print(str(first_h1))\n",
        "print(first_h1.name)\n",
        "print(first_h1.contents)\n",
        "print(first_h1.text)\n",
        "print(first_h1.get_text())\n",
        "print(first_h1.attrs)"
      ]
    },
    {
      "cell_type": "code",
      "execution_count": null,
      "id": "257cd3f6",
      "metadata": {
        "id": "257cd3f6",
        "outputId": "4a8d10b2-038b-4082-b3a4-aaf1ceb4a819"
      },
      "outputs": [
        {
          "data": {
            "text/plain": [
              "'Game of Thrones'"
            ]
          },
          "execution_count": 158,
          "metadata": {},
          "output_type": "execute_result"
        }
      ],
      "source": [
        "#find and find_all methods\n",
        "\n",
        "#syntax:\n",
        "#find(name, attrs, recursive, string, **keywords)\n",
        "\n",
        "#find first <a> tag (hyperlink)\n",
        "html_soup.find('a')\n",
        "\n",
        "#find first <p> tag (paragraph)\n",
        "html_soup.find('p')\n",
        "\n",
        "#find first <b> tag (bold text) beneath <body> tag\n",
        "html_soup.find('body').find('b').get_text()\n",
        "\n",
        "#find the string \"Game of Thrones\" in a webpage\n",
        "html_soup.find(string = 'Game of Thrones')"
      ]
    },
    {
      "cell_type": "code",
      "execution_count": null,
      "id": "0a13a39b",
      "metadata": {
        "id": "0a13a39b",
        "outputId": "a5e1cb15-346b-45a0-e924-820117480b91"
      },
      "outputs": [
        {
          "data": {
            "text/plain": [
              "[<h1 class=\"firstHeading mw-first-heading\" id=\"firstHeading\">List of <i>Game of Thrones</i> episodes</h1>,\n",
              " <h2 id=\"mw-toc-heading\">Contents</h2>,\n",
              " <h2><span class=\"mw-headline\" id=\"Series_overview\">Series overview</span></h2>,\n",
              " <h2><span class=\"mw-headline\" id=\"Episodes\">Episodes</span></h2>,\n",
              " <h2><span class=\"mw-headline\" id=\"Home_media_releases\">Home media releases</span></h2>,\n",
              " <h2><span class=\"mw-headline\" id=\"Ratings\">Ratings</span></h2>,\n",
              " <h2><span class=\"mw-headline\" id=\"References\">References</span></h2>,\n",
              " <h2><span class=\"mw-headline\" id=\"External_links\">External links</span></h2>,\n",
              " <h2>Navigation menu</h2>]"
            ]
          },
          "execution_count": 162,
          "metadata": {},
          "output_type": "execute_result"
        }
      ],
      "source": [
        "#find_all method\n",
        "#find_all(name, attrs, recursive, string, limit, **keywords)\n",
        "       \n",
        "#find all <a> tags (external links)\n",
        "html_soup.find_all('a', class_='external text',limit=5)\n",
        "\n",
        "#find all <a> tags (external links)\n",
        "#attrs argument in find_all\n",
        "html_soup.find_all(attrs = {'class':'external text'},limit = 5)\n",
        "\n",
        "#find all <a> tags with the content \"Game of Thrones\"\n",
        "html_soup.find_all('a',string = 'Game of Thrones')\n",
        "\n",
        "#filter tag within a list\n",
        "html_soup.findAll(['h1','h2'])\n",
        "\n",
        "html_soup.find_all(id = 'bodyContent')\n",
        "html_soup.find_all('cite')\n"
      ]
    },
    {
      "cell_type": "code",
      "execution_count": null,
      "id": "0468a5b2",
      "metadata": {
        "id": "0468a5b2",
        "outputId": "2d5fc41e-7f43-4909-dce3-c457d0049363"
      },
      "outputs": [
        {
          "name": "stdout",
          "output_type": "stream",
          "text": [
            "body\n",
            "b\n",
            "bdi\n",
            "bdi\n",
            "br\n"
          ]
        }
      ],
      "source": [
        "#finds all the tags whose names start with the letter \"b\", then print tag name:\n",
        "\n",
        "import re\n",
        "for tag in html_soup.find_all(re.compile(\"^b\"), limit = 5):\n",
        "    print(tag.name)\n",
        " "
      ]
    },
    {
      "cell_type": "code",
      "execution_count": null,
      "id": "4695550c",
      "metadata": {
        "id": "4695550c",
        "outputId": "b0633a83-dac7-4bc8-c1d7-92e63e48abe8"
      },
      "outputs": [
        {
          "name": "stdout",
          "output_type": "stream",
          "text": [
            "html\n",
            "meta\n",
            "title\n",
            "script\n",
            "script\n"
          ]
        }
      ],
      "source": [
        "#finds all the tags whose names contain the letter \"t\", then print tag name:\n",
        "\n",
        "for tag in html_soup.find_all(re.compile(\"t\"), limit = 5):\n",
        "    print(tag.name)\n"
      ]
    },
    {
      "cell_type": "code",
      "execution_count": null,
      "id": "3d7874f2",
      "metadata": {
        "id": "3d7874f2",
        "outputId": "875c1611-3ad6-4bc2-d07e-41feca13dc82"
      },
      "outputs": [
        {
          "data": {
            "text/plain": [
              "'/wiki/Wikipedia:Featured_lists'"
            ]
          },
          "execution_count": 198,
          "metadata": {},
          "output_type": "execute_result"
        }
      ],
      "source": [
        "#get one external link from a website\n",
        "\n",
        "#The href attribute specifies the URL of the page the link goes to\n",
        "#If the href attribute is not present, the <a> tag will not be a hyperlink\n",
        "\n",
        "html_soup.find_all('a',limit = 5)[1].get('href')\n",
        "\n",
        "#get all links from a website:\n"
      ]
    },
    {
      "cell_type": "markdown",
      "id": "4a882d25",
      "metadata": {
        "id": "4a882d25"
      },
      "source": [
        "### In-class exercise\n",
        "Create a list which contains first 10 external links from the \"Reference\" section in the following url:\n",
        "https://en.wikipedia.org/wiki/Baruch_College\n",
        "\n",
        "Create a list which contains all the 'href' related contents from the url(see below) that are nested within \"li\" tags from:\n",
        "https://en.wikipedia.org/wiki/Baruch_College"
      ]
    },
    {
      "cell_type": "code",
      "execution_count": 11,
      "id": "3b83654a",
      "metadata": {
        "id": "3b83654a"
      },
      "outputs": [],
      "source": [
        "#in-class exercise\n",
        "\n",
        "#build a connection with the url and create a beatifulsoup object\n",
        "import requests\n",
        "from bs4 import BeautifulSoup\n",
        "\n",
        "url = 'https://en.wikipedia.org/wiki/Baruch_College'\n",
        "r = requests.get(url)\n",
        "soup = BeautifulSoup(r.text)\n",
        "\n",
        "\n"
      ]
    },
    {
      "cell_type": "code",
      "execution_count": 12,
      "id": "e01a4a04",
      "metadata": {
        "id": "e01a4a04",
        "colab": {
          "base_uri": "https://localhost:8080/"
        },
        "outputId": "1b909598-3af8-445d-8584-9d1bb2aec559"
      },
      "outputs": [
        {
          "output_type": "execute_result",
          "data": {
            "text/plain": [
              "['https://www.alumni.baruch.cuny.edu/uploaded/Annual_Reports/BCF_Annual_Report_2019_FINAL.pdf',\n",
              " 'https://ir.baruch.cuny.edu/wp-content/uploads/sites/23/2021/01/Factsheet.Fall_2020_Finalx.pdf',\n",
              " 'http://colleges.usnews.rankingsandreviews.com/best-colleges/baruch-cuny-4766',\n",
              " 'http://www.baruch.edu/news/waldron_announces_gifts.htm',\n",
              " 'https://web.archive.org/web/20090918142223/http://www.baruch.cuny.edu/campaign/index.htm',\n",
              " 'https://www.nytimes.com/2011/11/22/education/cuny-students-clash-with-police-in-manhattan.html',\n",
              " 'https://www1.cuny.edu/mu/forum/2020/02/03/cuny-appoints-next-president-of-baruch-college/',\n",
              " 'https://www.baruch.cuny.edu//academic-degree-programs/',\n",
              " 'http://zicklin.baruch.cuny.edu/',\n",
              " 'http://www.baruch.cuny.edu/wsas/']"
            ]
          },
          "metadata": {},
          "execution_count": 12
        }
      ],
      "source": [
        "\n",
        "#<li> defines a list item\n",
        "\n",
        "cites = soup.find_all('cite',class_='citation',limit = 10)\n",
        "\n",
        "newlist = []\n",
        "for cite in cites:\n",
        "    #print(cite.find('a'))\n",
        "    a = cite.find('a')\n",
        "    link = a.get('href')\n",
        "    #print(link)\n",
        "    newlist.append(link)\n",
        "    \n",
        "newlist \n",
        "\n",
        " "
      ]
    },
    {
      "cell_type": "code",
      "source": [
        "print(link)\n"
      ],
      "metadata": {
        "colab": {
          "base_uri": "https://localhost:8080/"
        },
        "id": "oTMh2oIfAyI6",
        "outputId": "019ccc47-c9c0-4af7-ae51-fd299ed9fa1f"
      },
      "id": "oTMh2oIfAyI6",
      "execution_count": 10,
      "outputs": [
        {
          "output_type": "stream",
          "name": "stdout",
          "text": [
            "http://www.baruch.cuny.edu/wsas/\n"
          ]
        }
      ]
    },
    {
      "cell_type": "code",
      "execution_count": 6,
      "id": "a53dc695",
      "metadata": {
        "id": "a53dc695",
        "colab": {
          "base_uri": "https://localhost:8080/"
        },
        "outputId": "0d1c181a-42ce-46af-dcf8-f9ef6891d161"
      },
      "outputs": [
        {
          "output_type": "execute_result",
          "data": {
            "text/plain": [
              "[]"
            ]
          },
          "metadata": {},
          "execution_count": 6
        }
      ],
      "source": [
        "#deal with HTML tables\n",
        "\n",
        "table1 = html_soup.find('table')\n",
        "ep_tables = html_soup.find_all('table', class_='wikiepisodetable',limit=1)\n",
        "ep_tables"
      ]
    },
    {
      "cell_type": "code",
      "execution_count": 8,
      "id": "0725b7fb",
      "metadata": {
        "id": "0725b7fb"
      },
      "outputs": [],
      "source": [
        "#<tr> tag defines a row in an HTML table\n",
        "#<th> tag defines a header cell in an HTML table\n",
        "\n",
        "#fetch episode infomation from all episodetables\n",
        "episodes = []\n",
        "ep_tables = html_soup.find_all('table', class_='wikiepisodetable')\n",
        "\n",
        "for table in ep_tables:\n",
        "    headers = []\n",
        "    rows = table.find_all('tr')\n",
        "    # Start by fetching the header cells from the first row to determine\n",
        "    # the field names\n",
        "    for header in table.find('tr').find_all('th'):\n",
        "        headers.append(header.text)\n",
        "        # Then go through all the rows except the first one\n",
        "    for row in table.find_all('tr')[1:]:\n",
        "        values = []\n",
        "        # And get the column cells, the first one being inside a th-tag\n",
        "        for col in row.find_all(['th','td']):\n",
        "            values.append(col.text)\n",
        "        if values:\n",
        "            episode_dict = {headers[i]: values[i] for i in range(len(values))}\n",
        "            episodes.append(episode_dict)\n",
        "            \n",
        "#for episode in episodes:\n",
        "#    print(episode)\n",
        "\n"
      ]
    },
    {
      "cell_type": "code",
      "execution_count": null,
      "id": "c6a50a98",
      "metadata": {
        "id": "c6a50a98"
      },
      "outputs": [],
      "source": [
        ""
      ]
    }
  ],
  "metadata": {
    "kernelspec": {
      "display_name": "Python 3 (ipykernel)",
      "language": "python",
      "name": "python3"
    },
    "language_info": {
      "codemirror_mode": {
        "name": "ipython",
        "version": 3
      },
      "file_extension": ".py",
      "mimetype": "text/x-python",
      "name": "python",
      "nbconvert_exporter": "python",
      "pygments_lexer": "ipython3",
      "version": "3.9.7"
    },
    "colab": {
      "name": "Web_scraping_2_In_Class_0217_-2.ipynb",
      "provenance": [],
      "collapsed_sections": [],
      "include_colab_link": true
    }
  },
  "nbformat": 4,
  "nbformat_minor": 5
}