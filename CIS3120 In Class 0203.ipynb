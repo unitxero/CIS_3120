{
 "cells": [
  {
   "cell_type": "code",
   "execution_count": null,
   "id": "bf04939a",
   "metadata": {},
   "outputs": [],
   "source": [
    "#Number, booleans, strings"
   ]
  },
  {
   "cell_type": "code",
   "execution_count": 4,
   "id": "e44bf787",
   "metadata": {},
   "outputs": [
    {
     "data": {
      "text/plain": [
       "[1]"
      ]
     },
     "execution_count": 4,
     "metadata": {},
     "output_type": "execute_result"
    }
   ],
   "source": [
    "#lists, tuples, dictionaries and sets\n",
    "#creating a empty list and adding numbers\n",
    "\n",
    "#list.append(x) :add an item to the end of the list\n",
    "#list.pop(): removes and returns the last item in the list\n",
    "\n",
    "li1 = []\n",
    "li1.append(1) # li is now [1]\n",
    "li1.append(2) # li is now [1, 2]\n",
    "li1.pop() # removes and returns the last element\n"
   ]
  },
  {
   "cell_type": "code",
   "execution_count": 21,
   "id": "edbf2bfd",
   "metadata": {},
   "outputs": [
    {
     "data": {
      "text/plain": [
       "[2, 200, 3, 4, 3, 5, 7, 9, 0, 1, 2]"
      ]
     },
     "execution_count": 21,
     "metadata": {},
     "output_type": "execute_result"
    }
   ],
   "source": [
    "#list\n",
    "li1 = ['a', 2, False] # not all elements need to be the same type\n",
    "li1 = [[3], [3, 4], [1, 2, 3]] # even lists of lists\n",
    "li1 = [2,3,4,1]\n",
    "\n",
    "\n",
    "#list methods (remove, insert, locate position of each component, extend list)\n",
    "#list.insert(i,x) insert an item x at a given position i\n",
    "#list.remove(x) remove the first item from the list whose value is equal to x\n",
    "#list.extend(iterable) extend the list by appending all the items from the iterable\n",
    "\n",
    "#del li1[2] #delete one element in the list\n"
   ]
  },
  {
   "cell_type": "code",
   "execution_count": 22,
   "id": "6ec0d967",
   "metadata": {},
   "outputs": [
    {
     "name": "stdout",
     "output_type": "stream",
     "text": [
      "2\n",
      "200\n",
      "3\n",
      "4\n",
      "3\n",
      "5\n",
      "7\n",
      "9\n",
      "0\n",
      "1\n",
      "2\n"
     ]
    }
   ],
   "source": [
    "#for loop in list\n",
    "for num in li1:\n",
    "    print(num)    \n",
    "    \n",
    "#5 in li1"
   ]
  },
  {
   "cell_type": "code",
   "execution_count": 64,
   "id": "06d6ebbd",
   "metadata": {},
   "outputs": [
    {
     "name": "stdout",
     "output_type": "stream",
     "text": [
      "0\n",
      "1\n",
      "2\n",
      "3\n",
      "4\n"
     ]
    }
   ],
   "source": [
    "#while loop\n",
    "x = 0\n",
    "while x<5:\n",
    "    print(x)\n",
    "    x = x+1\n",
    "    #x += 1"
   ]
  },
  {
   "cell_type": "code",
   "execution_count": 33,
   "id": "427bde82",
   "metadata": {},
   "outputs": [
    {
     "name": "stdout",
     "output_type": "stream",
     "text": [
      "[0, 1, 4, 9, 16, 25, 36, 49, 64, 81]\n"
     ]
    }
   ],
   "source": [
    "#for loop and range()\n",
    "#range(lower, upper, step) create a sequence of numbers\n",
    "list(range(0,3))\n",
    "list(range(0,10,2)) \n",
    "#for number in range(0,10,2):\n",
    " #   print(number)"
   ]
  },
  {
   "cell_type": "code",
   "execution_count": 25,
   "id": "a8394b7c",
   "metadata": {},
   "outputs": [
    {
     "name": "stdout",
     "output_type": "stream",
     "text": [
      "[0, 1, 4, 9, 16, 25, 36, 49, 64, 81]\n"
     ]
    }
   ],
   "source": [
    "#create a list with squares of integers less than 10\n",
    "#1 for loop\n",
    "\n"
   ]
  },
  {
   "cell_type": "code",
   "execution_count": 35,
   "id": "1064aaf5",
   "metadata": {},
   "outputs": [
    {
     "data": {
      "text/plain": [
       "[0, 1, 4, 9, 16, 25, 36, 49, 64, 81]"
      ]
     },
     "execution_count": 35,
     "metadata": {},
     "output_type": "execute_result"
    }
   ],
   "source": [
    "#create a list with squares of integers less than 10 \n",
    "#2 list comprehension\n",
    "\n",
    "#list comprehension\n",
    "#a shorter syntax of for loop\n",
    "#create a new list based on the values of an existing list\n",
    "\n",
    "#syntax\n",
    "#output_list = [item for item in existing_list if (condition to be satisfied) ]\n",
    "\n"
   ]
  },
  {
   "cell_type": "code",
   "execution_count": 34,
   "id": "ffbf4b36",
   "metadata": {},
   "outputs": [
    {
     "data": {
      "text/plain": [
       "['Apple', 'banana', 'cherry', 'kiwi', 'mango', 'Avocado', 'blackberry']"
      ]
     },
     "execution_count": 34,
     "metadata": {},
     "output_type": "execute_result"
    }
   ],
   "source": [
    "#list comprehension\n",
    "#example 2\n",
    "#create a newlist which contains letters with letter \"a\" in the name\n",
    "\n",
    "fruits = [\"Apple\", \"banana\", \"cherry\", \"kiwi\", \"mango\", \"Avocado\", \"blackberry\"]\n",
    "\n"
   ]
  },
  {
   "cell_type": "code",
   "execution_count": 41,
   "id": "1e9e04c1",
   "metadata": {},
   "outputs": [
    {
     "data": {
      "text/plain": [
       "[0, 1, 4, 9, 16, 25, 36, 49, 64, 81]"
      ]
     },
     "execution_count": 41,
     "metadata": {},
     "output_type": "execute_result"
    }
   ],
   "source": [
    "#create a list with squares of integers less than 10\n",
    "#3 lambda & map()\n",
    "\n",
    "#lambda: used to define an anonymous function in Python, similar to 'def'\n",
    "#syntax: lambda arguments: experssion ()\n",
    "\n",
    "#map()\n",
    "#syntax: map(fun, ite)\n",
    "#apply the given function to each item of a given iterable (list, tuple, set, dictionary etc.)\n",
    "\n",
    "\n",
    "\n"
   ]
  },
  {
   "cell_type": "code",
   "execution_count": 37,
   "id": "338b5012",
   "metadata": {},
   "outputs": [
    {
     "data": {
      "text/plain": [
       "9"
      ]
     },
     "execution_count": 37,
     "metadata": {},
     "output_type": "execute_result"
    }
   ],
   "source": [
    "#user-defined function\n",
    "def add(x, y):\n",
    "    #print(\"x is {} and y is {}\".format(x,y))\n",
    "    return x + y # return value\n",
    "\n",
    "#compare with the lambda method\n",
    "\n",
    "\n",
    "\n",
    "add(4,5)"
   ]
  },
  {
   "cell_type": "code",
   "execution_count": 66,
   "id": "c6c96129",
   "metadata": {},
   "outputs": [
    {
     "data": {
      "text/plain": [
       "3"
      ]
     },
     "execution_count": 66,
     "metadata": {},
     "output_type": "execute_result"
    }
   ],
   "source": [
    "#Tuples: similar to lists but are immutable, meaning that elements cannot be added or removed after creation\n",
    "#When to use tuple? \n",
    "#Choose tuple if elements don't change \n",
    "\n",
    "tup = (1,2,3)\n",
    "\n",
    "\n",
    "#locate elements in tuple, delete, extend tuple\n",
    "\n"
   ]
  },
  {
   "cell_type": "code",
   "execution_count": 111,
   "id": "05cb0fa4",
   "metadata": {},
   "outputs": [
    {
     "data": {
      "text/plain": [
       "{10, 11, 2, 7, 8, 'a', 'b'}"
      ]
     },
     "execution_count": 111,
     "metadata": {},
     "output_type": "execute_result"
    }
   ],
   "source": [
    "#Sets: also similar to lists, but they store a unique and unordered collection of items, with no duplicates\n",
    "\n",
    "\n",
    "set1 = set()   #create an empty set\n",
    "set2 = {3,3,5,7,8,2,10}   #set will automatically reorder the number and delete duplicates\n",
    "set3 = {'a','a','b',3,5}\n",
    "\n",
    "\n",
    "\n",
    "#set operations\n",
    "\n",
    "            #find intersection between two sets\n",
    "            #union two sets\n",
    "            #find elements in set2 but not in set 3\n",
    "            #find elements in set2 or set3 but not both\n"
   ]
  },
  {
   "cell_type": "code",
   "execution_count": 81,
   "id": "ffb37a19",
   "metadata": {},
   "outputs": [
    {
     "data": {
      "text/plain": [
       "set"
      ]
     },
     "execution_count": 81,
     "metadata": {},
     "output_type": "execute_result"
    }
   ],
   "source": [
    "#Set comprehension\n",
    "#Create a set with unique characters other than 'abc' in the following string \n",
    "check_char = 'abracadabra'\n",
    "\n",
    "\n"
   ]
  },
  {
   "cell_type": "code",
   "execution_count": 116,
   "id": "23b220b6",
   "metadata": {},
   "outputs": [
    {
     "data": {
      "text/plain": [
       "{'one': 1, 'two': 2, 'three': 3, 'four': 4}"
      ]
     },
     "execution_count": 116,
     "metadata": {},
     "output_type": "execute_result"
    }
   ],
   "source": [
    "#Dictionaries store a mapping between a series of unique keys and values\n",
    "#Dictionaries are indexed by immutable keys (strings, numbers, tuples)\n",
    "\n",
    "dic1 = {}\n",
    "dic1 = {\"one\": 1, \"two\": 2, \"three\": 3}\n",
    "\n",
    "dic1[\"three\"]\n",
    "\n",
    "#create a dictionary with dict()\n",
    "a = [('a',1),('b',2),('c',3)]\n",
    "dic2 = dict(a)\n",
    "\n",
    "#separate keys and values with method values() and keys()\n",
    "\n",
    "\n",
    "\n",
    "#get a specific value from a dictionary, with method get()\n",
    "\n",
    "\n",
    "#update and remove dictionary element with method update() and del statement\n",
    "\n",
    "\n",
    "\n",
    "#check whether a value/key is in a dictionary\n"
   ]
  },
  {
   "cell_type": "code",
   "execution_count": 116,
   "id": "7178c4b7",
   "metadata": {},
   "outputs": [
    {
     "data": {
      "text/plain": [
       "{0: 0, 1: 1, 2: 4, 3: 9, 4: 16, 5: 25, 6: 36, 7: 49, 8: 64, 9: 81}"
      ]
     },
     "execution_count": 116,
     "metadata": {},
     "output_type": "execute_result"
    }
   ],
   "source": [
    "#dict comprehensions \n",
    "#can be used to create dictionaries from arbitrary key and value expressions\n",
    "\n",
    "\n"
   ]
  }
 ],
 "metadata": {
  "kernelspec": {
   "display_name": "Python 3 (ipykernel)",
   "language": "python",
   "name": "python3"
  },
  "language_info": {
   "codemirror_mode": {
    "name": "ipython",
    "version": 3
   },
   "file_extension": ".py",
   "mimetype": "text/x-python",
   "name": "python",
   "nbconvert_exporter": "python",
   "pygments_lexer": "ipython3",
   "version": "3.9.7"
  }
 },
 "nbformat": 4,
 "nbformat_minor": 5
}
